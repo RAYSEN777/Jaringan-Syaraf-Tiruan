{
  "cells": [
    {
      "cell_type": "markdown",
      "metadata": {},
      "source": [
        "### Nama      : Teguh Dwi Julyanto\n",
        "### NIM       : F1D022098\n",
        "### No. Absen : 19\n",
        "### Kelas     : C"
      ]
    },
    {
      "cell_type": "markdown",
      "metadata": {},
      "source": [
        "$$\n",
        "\\overset{\\text{Data Training}}{\\begin{bmatrix}\n",
        "1 & -1 & -1 & -1 & 1 & -1 & 1 \\\\\n",
        "-1 & 1 & 1 & 1 & 1 & -1 & -1 \\\\\n",
        "-1 & -1 & 1 & -1 & -1 & 1 & 1 \\\\\n",
        "-1 & -1 & 1 & -1 & 1 & -1 & 1 \\\\\n",
        "-1 & 1 & -1 & -1 & -1 & 1 & 1 \\\\\n",
        "1 & -1 & 1 & -1 & 1 & 1 & 1 \\\\\n",
        "-1 & -1 & 1 & 1 & -1 & -1 & -1 \\\\\n",
        "-1 & 1 & -1 & 1 & -1 & -1 & -1 \\\\\n",
        "1 & -1 & -1 & 1 & -1 & 1 & -1 \\\\\n",
        "-1 & 1 & 1 & 1 & 1 & 1 & -1\n",
        "\\end{bmatrix}}\n",
        "$$\n",
        "\n",
        "$$\n",
        "\\overset{\\text{Training Label}}{\\begin{bmatrix}\n",
        "A & B & A & A & A & A & B & B & B & B\n",
        "\\end{bmatrix}}\n",
        "$$\n",
        "\n",
        "$$\n",
        "\\overset{\\text{Data Testing } (X_U)}{\n",
        "\\begin{bmatrix}\n",
        "1 & -1 & -1 & -1 & 1 & -1 & 1 \\\\\n",
        "-1 & -1 & 1 & -1 & -1 & 1 & 1 \\\\\n",
        "-1 & -1 & 1 & -1 & 1 & -1 & 1 \\\\\n",
        "1 & -1 & -1 & 1 & -1 & 1 & -1 \\\\\n",
        "1 & 1 & 1 & -1 & 1 & 1 & 1\n",
        "\\end{bmatrix}\n",
        "}\n",
        "$$\n",
        "\n",
        "$$\n",
        "\\overset{\\text{Testing Label}}{\n",
        "\\begin{bmatrix}\n",
        "A & A & A & B & B\n",
        "\\end{bmatrix}\n",
        "}\n",
        "$$\n"
      ]
    },
    {
      "cell_type": "markdown",
      "metadata": {},
      "source": [
        "### **1. Model HAM**"
      ]
    },
    {
      "cell_type": "markdown",
      "metadata": {},
      "source": [
        "#### **Inisialisasi Data**"
      ]
    },
    {
      "cell_type": "markdown",
      "metadata": {},
      "source": [
        "- **X_Tr** → Data training yang berisikan pola-pola input dalam bentuk bipolar\n",
        "- **Class_Tr** → Label dari tiap pola training \n",
        "- **X_U** → Data testing\n",
        "- **Class_U** → Label sebenarnya dari data testing\n"
      ]
    },
    {
      "cell_type": "markdown",
      "metadata": {},
      "source": [
        "#### **Konversi label ke bentuk bipolar**"
      ]
    },
    {
      "cell_type": "markdown",
      "metadata": {},
      "source": [
        "- **A** → [1,-1]\n",
        "- **B** → [-1,1]\n",
        "\n"
      ]
    },
    {
      "cell_type": "markdown",
      "metadata": {},
      "source": [
        "#### **Perhitungan bobot**"
      ]
    },
    {
      "cell_type": "markdown",
      "metadata": {},
      "source": [
        "$$\n",
        "W = X_{\\text{Tr}}^{T} \\times Y_{\\text{Tr}}\n",
        "$$\n",
        "\n",
        "Keterangan:\n",
        "\n",
        "\n",
        "\\begin{aligned}\n",
        "W & : \\text{Matriks bobot hasil pelatihan} \\\\\n",
        "X_{\\text{Tr}} & : \\text{Matriks input data training} \\\\\n",
        "X_{\\text{Tr}}^{T} & : \\text{Transpose dari matriks input training} \\\\\n",
        "Y_{\\text{Tr}} & : \\text{Matriks target bipolar dari label training}\n",
        "\\end{aligned}\n",
        "\n"
      ]
    },
    {
      "cell_type": "markdown",
      "metadata": {},
      "source": [
        "#### **Fungsi AKtivasi**"
      ]
    },
    {
      "cell_type": "markdown",
      "metadata": {},
      "source": [
        "$$\n",
        "f(y_{\\text{in}}) =\n",
        "\\begin{cases}\n",
        "1, & \\text{jika } y_{\\text{in}} > 0 \\\\\n",
        "-1, & \\text{jika } y_{\\text{in}} \\le 0\n",
        "\\end{cases}\n",
        "$$"
      ]
    },
    {
      "cell_type": "markdown",
      "metadata": {},
      "source": [
        "#### **Menghitung Output untuk Data Uji**"
      ]
    },
    {
      "cell_type": "markdown",
      "metadata": {},
      "source": [
        "$$\n",
        "Y_{\\text{in}} = X_{U} \\times W\n",
        "$$\n",
        "\n",
        "$$\n",
        "Y_{\\text{out}} = f(Y_{\\text{in}})\n",
        "$$"
      ]
    },
    {
      "cell_type": "code",
      "execution_count": 2,
      "metadata": {
        "colab": {
          "base_uri": "https://localhost:8080/"
        },
        "id": "AnZ1C0xdVys3",
        "outputId": "d285090f-6cc7-4f11-c63d-ffbaa8bea8fc"
      },
      "outputs": [
        {
          "name": "stdout",
          "output_type": "stream",
          "text": [
            "============== Fase Training ==============\n",
            "Matriks Bobot (W) shape: (7, 2)\n",
            "Matriks Bobot W:\n",
            " [[  2  -2]\n",
            " [ -4   4]\n",
            " [  0   0]\n",
            " [-10  10]\n",
            " [  2  -2]\n",
            " [  2  -2]\n",
            " [ 10 -10]]\n",
            "\n",
            "============== Fase Testing ==============\n",
            "Net Input (Y_in_U):\n",
            " [[ 26 -26]\n",
            " [ 22 -22]\n",
            " [ 22 -22]\n",
            " [-14  14]\n",
            " [ 22 -22]]\n",
            "\n",
            "Output Bipolar (Y_out_U):\n",
            " [[ 1 -1]\n",
            " [ 1 -1]\n",
            " [ 1 -1]\n",
            " [-1  1]\n",
            " [ 1 -1]]\n",
            "\n",
            "============== Hasil Prediksi ==============\n",
            "Pola ke-1: [ 1 -1 -1 -1  1 -1  1] -> Prediksi: A | Label Asli: A\n",
            "Pola ke-2: [-1 -1  1 -1 -1  1  1] -> Prediksi: A | Label Asli: A\n",
            "Pola ke-3: [-1 -1  1 -1  1 -1  1] -> Prediksi: A | Label Asli: A\n",
            "Pola ke-4: [ 1 -1 -1  1 -1  1 -1] -> Prediksi: B | Label Asli: B\n",
            "Pola ke-5: [ 1  1  1 -1  1  1  1] -> Prediksi: A | Label Asli: B\n",
            "\n",
            "============== Evaluasi ==============\n",
            "Total Benar: 4/5\n",
            "Akurasi: 80.00%\n",
            "\n"
          ]
        }
      ],
      "source": [
        "import numpy as np\n",
        "\n",
        "X_Tr = np.array([\n",
        "    [1, -1, -1, -1, 1, -1, 1],\n",
        "    [-1, 1, 1, 1, 1, -1, -1],\n",
        "    [-1, -1, 1, -1, -1, 1, 1],\n",
        "    [-1, -1, 1, -1, 1, -1, 1],\n",
        "    [-1, 1, -1, -1, -1, 1, 1],\n",
        "    [1, -1, 1, -1, 1, 1, 1],\n",
        "    [-1, -1, 1, 1, -1, -1, -1],\n",
        "    [-1, 1, -1, 1, -1, -1, -1],\n",
        "    [1, -1, -1, 1, -1, 1, -1],\n",
        "    [-1, 1, 1, 1, 1, 1, -1]\n",
        "])\n",
        "\n",
        "Class_Tr = ['A', 'B', 'A', 'A', 'A', 'A', 'B', 'B', 'B', 'B']\n",
        "\n",
        "X_U = np.array([\n",
        "    [1, -1, -1, -1, 1, -1, 1],\n",
        "    [-1, -1, 1, -1, -1, 1, 1],\n",
        "    [-1, -1, 1, -1, 1, -1, 1],\n",
        "    [1, -1, -1, 1, -1, 1, -1],\n",
        "    [1, 1, 1, -1, 1, 1, 1]\n",
        "])\n",
        "\n",
        "Class_U = ['A', 'A', 'A', 'B', 'B']\n",
        "\n",
        "target_map = {\n",
        "    'A': np.array([1, -1]),\n",
        "    'B': np.array([-1, 1])\n",
        "}\n",
        "Y_Tr = np.array([target_map[label] for label in Class_Tr])\n",
        "\n",
        "W = X_Tr.T @ Y_Tr\n",
        "\n",
        "print(\"============== Fase Training ==============\")\n",
        "print(\"Matriks Bobot (W) shape:\", W.shape)\n",
        "print(\"Matriks Bobot W:\\n\", W)\n",
        "print(\"\")\n",
        "\n",
        "def activation(y_in):\n",
        "    return np.where(y_in > 0, 1, -1)\n",
        "\n",
        "Y_in_U = X_U @ W\n",
        "Y_out_U = activation(Y_in_U)\n",
        "\n",
        "print(\"============== Fase Testing ==============\")\n",
        "print(\"Net Input (Y_in_U):\\n\", Y_in_U)\n",
        "print(\"\\nOutput Bipolar (Y_out_U):\\n\", Y_out_U)\n",
        "print(\"\")\n",
        "\n",
        "reverse_target_map = {tuple(v): k for k, v in target_map.items()}\n",
        "\n",
        "predictions = []\n",
        "for y_vec in Y_out_U:\n",
        "    y_tuple = tuple(y_vec)\n",
        "    predicted_class = reverse_target_map.get(y_tuple, 'Unknown')\n",
        "    predictions.append(predicted_class)\n",
        "\n",
        "print(\"============== Hasil Prediksi ==============\")\n",
        "for i in range(len(X_U)):\n",
        "    print(f\"Pola ke-{i+1}: {X_U[i]} -> Prediksi: {predictions[i]} | Label Asli: {Class_U[i]}\")\n",
        "\n",
        "correct = sum(p == t for p, t in zip(predictions, Class_U))\n",
        "accuracy = correct / len(Class_U) * 100\n",
        "\n",
        "print(\"\\n============== Evaluasi ==============\")\n",
        "print(f\"Total Benar: {correct}/{len(Class_U)}\")\n",
        "print(f\"Akurasi: {accuracy:.2f}%\")\n",
        "print(\"\")\n"
      ]
    },
    {
      "cell_type": "markdown",
      "metadata": {},
      "source": [
        "### **2. Model LVQ**"
      ]
    },
    {
      "cell_type": "markdown",
      "metadata": {},
      "source": [
        "#### **Inisialisasi Data**"
      ]
    },
    {
      "cell_type": "markdown",
      "metadata": {},
      "source": [
        "- **X_Tr** → Data training yang berisikan pola-pola input dalam bentuk bipolar\n",
        "- **Class_Tr** → Label dari tiap pola training \n",
        "- **X_U** → Data testing\n",
        "- **Class_U** → Label sebenarnya dari data testing\n"
      ]
    },
    {
      "cell_type": "markdown",
      "metadata": {},
      "source": [
        "#### **Inisialisasi Prototype**"
      ]
    },
    {
      "cell_type": "markdown",
      "metadata": {},
      "source": [
        "- **proto_A** → X_Tr[0]\n",
        "- **proto_B** → X_Tr[1]"
      ]
    },
    {
      "cell_type": "markdown",
      "metadata": {},
      "source": [
        "$$\n",
        "\\mathbf{W} = \n",
        "\\begin{bmatrix}\n",
        "\\mathbf{w}_A \\\\\n",
        "\\mathbf{w}_B\n",
        "\\end{bmatrix}\n",
        "$$\n"
      ]
    },
    {
      "cell_type": "markdown",
      "metadata": {},
      "source": [
        "\\begin{aligned}\n",
        "W_{\\text{A}} & = X_{\\text{Tr}}^{(A)} & {\\text{Dan   }} & W_{\\text{B}} & = X_{\\text{Tr}}^{(B)} \\\\\n",
        "\\end{aligned}"
      ]
    },
    {
      "cell_type": "markdown",
      "metadata": {},
      "source": [
        "#### **Parameter Learning**"
      ]
    },
    {
      "cell_type": "markdown",
      "metadata": {},
      "source": [
        "- learning_rate = 0.1\n",
        "- epochs = 50\n",
        "- decay_rate = 0.99"
      ]
    },
    {
      "cell_type": "markdown",
      "metadata": {},
      "source": [
        "#### **Hitung Jarak**"
      ]
    },
    {
      "cell_type": "markdown",
      "metadata": {},
      "source": [
        "$$\n",
        "d(x, w_i) = \\sqrt{\\sum_{j=1}^{n} (x_j - w_{ij})^2}\n",
        "$$\n"
      ]
    },
    {
      "cell_type": "markdown",
      "metadata": {},
      "source": [
        "#### **Training**"
      ]
    },
    {
      "cell_type": "markdown",
      "metadata": {},
      "source": [
        "$$\n",
        "\\mathbf{w}_c^{(t+1)} =\n",
        "\\begin{cases}\n",
        "\\mathbf{w}_c^{(t)} + \\alpha \\, (\\mathbf{x} - \\mathbf{w}_c^{(t)}), & \\text{jika } \\text{kelas cocok} \\\\\n",
        "\\mathbf{w}_c^{(t)} - \\alpha \\, (\\mathbf{x} - \\mathbf{w}_c^{(t)}), & \\text{jika } \\text{kelas tidak cocok}\n",
        "\\end{cases}\n",
        "$$\n"
      ]
    },
    {
      "cell_type": "markdown",
      "metadata": {},
      "source": [
        "#### **Testing**"
      ]
    },
    {
      "cell_type": "markdown",
      "metadata": {},
      "source": [
        "$$\n",
        "\\hat{y} = \\arg\\min_i \\, d(x_u, w_i)\n",
        "$$\n"
      ]
    },
    {
      "cell_type": "code",
      "execution_count": null,
      "metadata": {
        "colab": {
          "base_uri": "https://localhost:8080/"
        },
        "id": "2eqOgim2Z3hP",
        "outputId": "ce0efc0e-99bc-4f19-a688-414ce0f2a709"
      },
      "outputs": [],
      "source": [
        "import numpy as np\n",
        "\n",
        "X_Tr = np.array([\n",
        "    [1, -1, -1, -1, 1, -1, 1],   \n",
        "    [-1, 1, 1, 1, 1, -1, -1],   \n",
        "    [-1, -1, 1, -1, -1, 1, 1],   \n",
        "    [-1, -1, 1, -1, 1, -1, 1],   \n",
        "    [-1, 1, -1, -1, -1, 1, 1],   \n",
        "    [1, -1, 1, -1, 1, 1, 1],    \n",
        "    [-1, -1, 1, 1, -1, -1, -1],  \n",
        "    [-1, 1, -1, 1, -1, -1, -1],  \n",
        "    [1, -1, -1, 1, -1, 1, -1],   \n",
        "    [-1, 1, 1, 1, 1, 1, -1]     \n",
        "])\n",
        "\n",
        "Class_Tr = ['A', 'B', 'A', 'A', 'A', 'A', 'B', 'B', 'B', 'B']\n",
        "\n",
        "X_U = np.array([\n",
        "    [1, -1, -1, -1, 1, -1, 1],   \n",
        "    [-1, -1, 1, -1, -1, 1, 1],   \n",
        "    [-1, -1, 1, -1, 1, -1, 1],   \n",
        "    [1, -1, -1, 1, -1, 1, -1],   \n",
        "    [1, 1, 1, -1, 1, 1, 1]      \n",
        "])\n",
        "\n",
        "Class_U = ['A', 'A', 'A', 'B', 'B']\n",
        "\n",
        "proto_A = X_Tr[0].copy().astype(float)\n",
        "proto_B = X_Tr[1].copy().astype(float)\n",
        "prototypes = np.array([proto_A, proto_B])\n",
        "proto_labels = ['A', 'B']\n",
        "\n",
        "learning_rate = 0.1\n",
        "epochs = 50\n",
        "decay_rate = 0.99\n",
        "\n",
        "print(\"============== Inisialisasi ==============\")\n",
        "print(f\"Prototype awal 'A':\\n {prototypes[0]}\")\n",
        "print(f\"Prototype awal 'B':\\n {prototypes[1]}\")\n",
        "print(f\"Learning Rate awal: {learning_rate}, Epochs: {epochs}\")\n",
        "print(\"\")\n",
        "\n",
        "def euclidean_distance(v1, v2):\n",
        "    return np.linalg.norm(v1 - v2)\n",
        "\n",
        "for epoch in range(epochs):\n",
        "    for i in range(len(X_Tr)):\n",
        "        x = X_Tr[i]\n",
        "        y_true = Class_Tr[i]\n",
        "        distances = [euclidean_distance(x, p) for p in prototypes]\n",
        "        winner_idx = np.argmin(distances)\n",
        "        winner_label = proto_labels[winner_idx]\n",
        "        winner_vec = prototypes[winner_idx]\n",
        "\n",
        "        if y_true == winner_label:\n",
        "            prototypes[winner_idx] += learning_rate * (x - winner_vec)\n",
        "        else:\n",
        "            prototypes[winner_idx] -= learning_rate * (x - winner_vec)\n",
        "\n",
        "    learning_rate *= decay_rate\n",
        "\n",
        "print(\"============== Fase Training ==============\")\n",
        "print(f\"Learning Rate akhir: {learning_rate:.6f}\")\n",
        "print(f\"Prototype 'A' (setelah train):\\n {np.round(prototypes[0], 4)}\")\n",
        "print(f\"Prototype 'B' (setelah train):\\n {np.round(prototypes[1], 4)}\")\n",
        "print(\"\")\n",
        "\n",
        "def predict_lvq(x_unknown, prototypes, proto_labels):\n",
        "    distances = [euclidean_distance(x_unknown, p) for p in prototypes]\n",
        "    winner_idx = np.argmin(distances)\n",
        "    return proto_labels[winner_idx]\n",
        "\n",
        "predictions = [predict_lvq(x, prototypes, proto_labels) for x in X_U]\n",
        "\n",
        "print(\"============== Hasil Prediksi ==============\")\n",
        "for i in range(len(X_U)):\n",
        "    print(f\"Pola ke-{i+1}: {X_U[i]} -> Prediksi: {predictions[i]} | Label Asli: {Class_U[i]}\")\n",
        "\n",
        "\n",
        "correct = sum(p == t for p, t in zip(predictions, Class_U))\n",
        "accuracy = correct / len(Class_U) * 100\n",
        "\n",
        "print(\"\\n============== Evaluasi ==============\")\n",
        "print(f\"Total Benar: {correct}/{len(Class_U)}\")\n",
        "print(f\"Akurasi: {accuracy:.2f}%\")\n",
        "print(\"\")"
      ]
    }
  ],
  "metadata": {
    "colab": {
      "provenance": []
    },
    "kernelspec": {
      "display_name": "Python 3",
      "name": "python3"
    },
    "language_info": {
      "codemirror_mode": {
        "name": "ipython",
        "version": 3
      },
      "file_extension": ".py",
      "mimetype": "text/x-python",
      "name": "python",
      "nbconvert_exporter": "python",
      "pygments_lexer": "ipython3",
      "version": "3.13.7"
    }
  },
  "nbformat": 4,
  "nbformat_minor": 0
}
