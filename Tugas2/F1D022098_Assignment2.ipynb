{
  "cells": [
    {
      "cell_type": "markdown",
      "metadata": {
        "id": "kRKq793Aq_O8"
      },
      "source": [
        "### Nama      : Teguh Dwi Julyanto\n",
        "### NIM       : F1D022098\n",
        "### No. Absen : 19\n",
        "### Kelas     : C"
      ]
    },
    {
      "cell_type": "markdown",
      "metadata": {
        "id": "ZnxkzWJlq_O9"
      },
      "source": [
        "$$\n",
        "\\overset{\\text{Data Training}}{\\begin{bmatrix}\n",
        "1 & -1 & -1 & -1 & 1 & -1 & 1 \\\\\n",
        "-1 & 1 & 1 & 1 & 1 & -1 & -1 \\\\\n",
        "-1 & -1 & 1 & -1 & -1 & 1 & 1 \\\\\n",
        "-1 & -1 & 1 & -1 & 1 & -1 & 1 \\\\\n",
        "-1 & 1 & -1 & -1 & -1 & 1 & 1 \\\\\n",
        "1 & -1 & 1 & -1 & 1 & 1 & 1 \\\\\n",
        "-1 & -1 & 1 & 1 & -1 & -1 & -1 \\\\\n",
        "-1 & 1 & -1 & 1 & -1 & -1 & -1 \\\\\n",
        "1 & -1 & -1 & 1 & -1 & 1 & -1 \\\\\n",
        "-1 & 1 & 1 & 1 & 1 & 1 & -1\n",
        "\\end{bmatrix}}\n",
        "$$\n",
        "\n",
        "$$\n",
        "\\overset{\\text{Training Label}}{\\begin{bmatrix}\n",
        "A & B & A & A & A & A & B & B & B & B\n",
        "\\end{bmatrix}}\n",
        "$$\n",
        "\n",
        "$$\n",
        "\\overset{\\text{Data Testing } (X_U)}{\n",
        "\\begin{bmatrix}\n",
        "1 & -1 & -1 & -1 & 1 & -1 & 1 \\\\\n",
        "-1 & -1 & 1 & -1 & -1 & 1 & 1 \\\\\n",
        "-1 & -1 & 1 & -1 & 1 & -1 & 1 \\\\\n",
        "1 & -1 & -1 & 1 & -1 & 1 & -1 \\\\\n",
        "1 & 1 & 1 & -1 & 1 & 1 & 1\n",
        "\\end{bmatrix}\n",
        "}\n",
        "$$\n",
        "\n",
        "$$\n",
        "\\overset{\\text{Testing Label}}{\n",
        "\\begin{bmatrix}\n",
        "A & A & A & B & B\n",
        "\\end{bmatrix}\n",
        "}\n",
        "$$\n"
      ]
    },
    {
      "cell_type": "markdown",
      "metadata": {
        "id": "XyRnLG1wq_O9"
      },
      "source": [
        "### **1. Model HAM**"
      ]
    },
    {
      "cell_type": "markdown",
      "metadata": {
        "id": "3A8H8S1lq_O-"
      },
      "source": [
        "#### **Inisialisasi Data**"
      ]
    },
    {
      "cell_type": "markdown",
      "metadata": {
        "id": "EBXXKfhNq_O-"
      },
      "source": [
        "- **X_Tr** → Data training yang berisikan pola-pola input dalam bentuk bipolar\n",
        "- **Class_Tr** → Label dari tiap pola training\n",
        "- **X_U** → Data testing\n",
        "- **Class_U** → Label sebenarnya dari data testing\n"
      ]
    },
    {
      "cell_type": "markdown",
      "metadata": {
        "id": "TS29TRmzq_O-"
      },
      "source": [
        "#### **Konversi label ke bentuk bipolar**"
      ]
    },
    {
      "cell_type": "markdown",
      "metadata": {
        "id": "0elLzzF7q_O-"
      },
      "source": [
        "- **A** → [1,-1]\n",
        "- **B** → [-1,1]\n",
        "\n"
      ]
    },
    {
      "cell_type": "markdown",
      "metadata": {
        "id": "zBPdt9gNq_O_"
      },
      "source": [
        "#### **Perhitungan bobot**"
      ]
    },
    {
      "cell_type": "markdown",
      "metadata": {
        "id": "_SJl7TFLq_O_"
      },
      "source": [
        "$$\n",
        "W = X_{\\text{Tr}}^{T} \\times Y_{\\text{Tr}}\n",
        "$$\n",
        "\n",
        "Keterangan:\n",
        "\n",
        "\n",
        "\\begin{aligned}\n",
        "W & : \\text{Matriks bobot hasil pelatihan} \\\\\n",
        "X_{\\text{Tr}} & : \\text{Matriks input data training} \\\\\n",
        "X_{\\text{Tr}}^{T} & : \\text{Transpose dari matriks input training} \\\\\n",
        "Y_{\\text{Tr}} & : \\text{Matriks target bipolar dari label training}\n",
        "\\end{aligned}\n",
        "\n"
      ]
    },
    {
      "cell_type": "markdown",
      "metadata": {
        "id": "e1SRPxSTq_O_"
      },
      "source": [
        "#### **Fungsi AKtivasi**"
      ]
    },
    {
      "cell_type": "markdown",
      "metadata": {
        "id": "q8Puo0hSq_O_"
      },
      "source": [
        "$$\n",
        "f(y_{\\text{in}}) =\n",
        "\\begin{cases}\n",
        "1, & \\text{jika } y_{\\text{in}} > 0 \\\\\n",
        "-1, & \\text{jika } y_{\\text{in}} \\le 0\n",
        "\\end{cases}\n",
        "$$"
      ]
    },
    {
      "cell_type": "markdown",
      "metadata": {
        "id": "VvxqZ06nq_O_"
      },
      "source": [
        "#### **Menghitung Output untuk Data Uji**"
      ]
    },
    {
      "cell_type": "markdown",
      "metadata": {
        "id": "qigJSwfSq_O_"
      },
      "source": [
        "$$\n",
        "Y_{\\text{in}} = X_{U} \\times W\n",
        "$$\n",
        "\n",
        "$$\n",
        "Y_{\\text{out}} = f(Y_{\\text{in}})\n",
        "$$"
      ]
    },
    {
      "cell_type": "code",
      "execution_count": 1,
      "metadata": {
        "colab": {
          "base_uri": "https://localhost:8080/"
        },
        "id": "AnZ1C0xdVys3",
        "outputId": "bee6056c-cf05-4795-f5bb-95ce3fb2540f"
      },
      "outputs": [
        {
          "output_type": "stream",
          "name": "stdout",
          "text": [
            "============== Fase HAM ==============\n",
            "W shape: (7, 2)\n",
            "Y_out_U:\n",
            " [[ 1 -1]\n",
            " [ 1 -1]\n",
            " [ 1 -1]\n",
            " [-1  1]\n",
            " [ 1 -1]]\n",
            "\n",
            "============== Hasil Klasifikasi kNN ==============\n",
            "Pola ke-1: Prediksi=A, Asli=A\n",
            "Pola ke-2: Prediksi=A, Asli=A\n",
            "Pola ke-3: Prediksi=A, Asli=A\n",
            "Pola ke-4: Prediksi=B, Asli=B\n",
            "Pola ke-5: Prediksi=A, Asli=B\n",
            "\n",
            "Akurasi: 80.00%\n"
          ]
        }
      ],
      "source": [
        "import numpy as np\n",
        "from sklearn.neighbors import KNeighborsClassifier\n",
        "\n",
        "X_Tr = np.array([\n",
        "    [1, -1, -1, -1, 1, -1, 1],\n",
        "    [-1, 1, 1, 1, 1, -1, -1],\n",
        "    [-1, -1, 1, -1, -1, 1, 1],\n",
        "    [-1, -1, 1, -1, 1, -1, 1],\n",
        "    [-1, 1, -1, -1, -1, 1, 1],\n",
        "    [1, -1, 1, -1, 1, 1, 1],\n",
        "    [-1, -1, 1, 1, -1, -1, -1],\n",
        "    [-1, 1, -1, 1, -1, -1, -1],\n",
        "    [1, -1, -1, 1, -1, 1, -1],\n",
        "    [-1, 1, 1, 1, 1, 1, -1]\n",
        "])\n",
        "\n",
        "Class_Tr = ['A', 'B', 'A', 'A', 'A', 'A', 'B', 'B', 'B', 'B']\n",
        "\n",
        "X_U = np.array([\n",
        "    [1, -1, -1, -1, 1, -1, 1],\n",
        "    [-1, -1, 1, -1, -1, 1, 1],\n",
        "    [-1, -1, 1, -1, 1, -1, 1],\n",
        "    [1, -1, -1, 1, -1, 1, -1],\n",
        "    [1, 1, 1, -1, 1, 1, 1]\n",
        "])\n",
        "\n",
        "Class_U = ['A', 'A', 'A', 'B', 'B']\n",
        "\n",
        "target_map = {'A': np.array([1, -1]), 'B': np.array([-1, 1])}\n",
        "Y_Tr = np.array([target_map[label] for label in Class_Tr])\n",
        "\n",
        "W = X_Tr.T @ Y_Tr\n",
        "\n",
        "def activation(y_in):\n",
        "    return np.where(y_in > 0, 1, -1)\n",
        "\n",
        "Y_in_U = X_U @ W\n",
        "Y_out_U = activation(Y_in_U)\n",
        "\n",
        "print(\"============== Fase HAM ==============\")\n",
        "print(\"W shape:\", W.shape)\n",
        "print(\"Y_out_U:\\n\", Y_out_U)\n",
        "\n",
        "Y_in_Tr = X_Tr @ W\n",
        "Y_out_Tr = activation(Y_in_Tr)\n",
        "\n",
        "knn = KNeighborsClassifier(n_neighbors=1)\n",
        "knn.fit(Y_out_Tr, Class_Tr)\n",
        "\n",
        "predictions = knn.predict(Y_out_U)\n",
        "\n",
        "print(\"\\n============== Hasil Klasifikasi kNN ==============\")\n",
        "for i in range(len(X_U)):\n",
        "    print(f\"Pola ke-{i+1}: Prediksi={predictions[i]}, Asli={Class_U[i]}\")\n",
        "\n",
        "accuracy = np.mean(predictions == np.array(Class_U)) * 100\n",
        "print(f\"\\nAkurasi: {accuracy:.2f}%\")\n"
      ]
    },
    {
      "cell_type": "markdown",
      "metadata": {
        "id": "yYlHEKRIq_PA"
      },
      "source": [
        "### **2. Model LVQ**"
      ]
    },
    {
      "cell_type": "markdown",
      "metadata": {
        "id": "Wi74TkRoq_PA"
      },
      "source": [
        "#### **Inisialisasi Data**"
      ]
    },
    {
      "cell_type": "markdown",
      "metadata": {
        "id": "6rjMFBvaq_PA"
      },
      "source": [
        "- **X_Tr** → Data training yang berisikan pola-pola input dalam bentuk bipolar\n",
        "- **Class_Tr** → Label dari tiap pola training\n",
        "- **X_U** → Data testing\n",
        "- **Class_U** → Label sebenarnya dari data testing\n"
      ]
    },
    {
      "cell_type": "markdown",
      "metadata": {
        "id": "K62P9gswq_PB"
      },
      "source": [
        "#### **Inisialisasi Prototype**"
      ]
    },
    {
      "cell_type": "markdown",
      "metadata": {
        "id": "NYpMlCflq_PB"
      },
      "source": [
        "- **proto_A** → X_Tr[0]\n",
        "- **proto_B** → X_Tr[1]"
      ]
    },
    {
      "cell_type": "markdown",
      "metadata": {
        "id": "l11ZNShoq_PB"
      },
      "source": [
        "$$\n",
        "\\mathbf{W} =\n",
        "\\begin{bmatrix}\n",
        "\\mathbf{w}_A \\\\\n",
        "\\mathbf{w}_B\n",
        "\\end{bmatrix}\n",
        "$$\n"
      ]
    },
    {
      "cell_type": "markdown",
      "metadata": {
        "id": "vnpNe9n5q_PB"
      },
      "source": [
        "\\begin{aligned}\n",
        "W_{\\text{A}} & = X_{\\text{Tr}}^{(A)} & {\\text{Dan   }} & W_{\\text{B}} & = X_{\\text{Tr}}^{(B)} \\\\\n",
        "\\end{aligned}"
      ]
    },
    {
      "cell_type": "markdown",
      "metadata": {
        "id": "TN2fRSvRq_PB"
      },
      "source": [
        "#### **Parameter Learning**"
      ]
    },
    {
      "cell_type": "markdown",
      "metadata": {
        "id": "qTNgSQ7Vq_PB"
      },
      "source": [
        "- learning_rate = 0.1\n",
        "- epochs = 50\n",
        "- decay_rate = 0.99"
      ]
    },
    {
      "cell_type": "markdown",
      "metadata": {
        "id": "heJaJFEWq_PB"
      },
      "source": [
        "#### **Hitung Jarak**"
      ]
    },
    {
      "cell_type": "markdown",
      "metadata": {
        "id": "TCvpZt3Yq_PB"
      },
      "source": [
        "$$\n",
        "d(x, w_i) = \\sqrt{\\sum_{j=1}^{n} (x_j - w_{ij})^2}\n",
        "$$\n"
      ]
    },
    {
      "cell_type": "markdown",
      "metadata": {
        "id": "tzx-CSeBq_PB"
      },
      "source": [
        "#### **Training**"
      ]
    },
    {
      "cell_type": "markdown",
      "metadata": {
        "id": "fYP8DqNhq_PB"
      },
      "source": [
        "$$\n",
        "\\mathbf{w}_c^{(t+1)} =\n",
        "\\begin{cases}\n",
        "\\mathbf{w}_c^{(t)} + \\alpha \\, (\\mathbf{x} - \\mathbf{w}_c^{(t)}), & \\text{jika } \\text{kelas cocok} \\\\\n",
        "\\mathbf{w}_c^{(t)} - \\alpha \\, (\\mathbf{x} - \\mathbf{w}_c^{(t)}), & \\text{jika } \\text{kelas tidak cocok}\n",
        "\\end{cases}\n",
        "$$\n"
      ]
    },
    {
      "cell_type": "markdown",
      "metadata": {
        "id": "y3Zhk8Uzq_PB"
      },
      "source": [
        "#### **Testing**"
      ]
    },
    {
      "cell_type": "markdown",
      "metadata": {
        "id": "UHA6Z6Gnq_PB"
      },
      "source": [
        "$$\n",
        "\\hat{y} = \\arg\\min_i \\, d(x_u, w_i)\n",
        "$$\n"
      ]
    },
    {
      "cell_type": "code",
      "execution_count": 2,
      "metadata": {
        "colab": {
          "base_uri": "https://localhost:8080/"
        },
        "id": "2eqOgim2Z3hP",
        "outputId": "c9565a69-d4ff-453f-eafa-d66e174513b5"
      },
      "outputs": [
        {
          "output_type": "stream",
          "name": "stdout",
          "text": [
            "============== Inisialisasi ==============\n",
            "Prototype awal 'A':\n",
            " [ 1. -1. -1. -1.  1. -1.  1.]\n",
            "Prototype awal 'B':\n",
            " [-1.  1.  1.  1.  1. -1. -1.]\n",
            "Learning Rate awal: 0.1, Epochs: 50\n",
            "\n",
            "============== Fase Training ==============\n",
            "Learning Rate akhir: 0.060501\n",
            "Prototype 'A' (setelah train):\n",
            " [-0.1966 -0.575   0.2251 -1.      0.2017  0.2518  1.    ]\n",
            "Prototype 'B' (setelah train):\n",
            " [-0.575   0.2017  0.1767  1.     -0.1966 -0.1215 -1.    ]\n",
            "\n",
            "============== Hasil Prediksi ==============\n",
            "Pola ke-1: [ 1 -1 -1 -1  1 -1  1] -> Prediksi: A | Label Asli: A\n",
            "Pola ke-2: [-1 -1  1 -1 -1  1  1] -> Prediksi: A | Label Asli: A\n",
            "Pola ke-3: [-1 -1  1 -1  1 -1  1] -> Prediksi: A | Label Asli: A\n",
            "Pola ke-4: [ 1 -1 -1  1 -1  1 -1] -> Prediksi: B | Label Asli: B\n",
            "Pola ke-5: [ 1  1  1 -1  1  1  1] -> Prediksi: A | Label Asli: B\n",
            "\n",
            "============== Evaluasi ==============\n",
            "Total Benar: 4/5\n",
            "Akurasi: 80.00%\n",
            "\n"
          ]
        }
      ],
      "source": [
        "import numpy as np\n",
        "\n",
        "X_Tr = np.array([\n",
        "    [1, -1, -1, -1, 1, -1, 1],\n",
        "    [-1, 1, 1, 1, 1, -1, -1],\n",
        "    [-1, -1, 1, -1, -1, 1, 1],\n",
        "    [-1, -1, 1, -1, 1, -1, 1],\n",
        "    [-1, 1, -1, -1, -1, 1, 1],\n",
        "    [1, -1, 1, -1, 1, 1, 1],\n",
        "    [-1, -1, 1, 1, -1, -1, -1],\n",
        "    [-1, 1, -1, 1, -1, -1, -1],\n",
        "    [1, -1, -1, 1, -1, 1, -1],\n",
        "    [-1, 1, 1, 1, 1, 1, -1]\n",
        "])\n",
        "\n",
        "Class_Tr = ['A', 'B', 'A', 'A', 'A', 'A', 'B', 'B', 'B', 'B']\n",
        "\n",
        "X_U = np.array([\n",
        "    [1, -1, -1, -1, 1, -1, 1],\n",
        "    [-1, -1, 1, -1, -1, 1, 1],\n",
        "    [-1, -1, 1, -1, 1, -1, 1],\n",
        "    [1, -1, -1, 1, -1, 1, -1],\n",
        "    [1, 1, 1, -1, 1, 1, 1]\n",
        "])\n",
        "\n",
        "Class_U = ['A', 'A', 'A', 'B', 'B']\n",
        "\n",
        "proto_A = X_Tr[0].copy().astype(float)\n",
        "proto_B = X_Tr[1].copy().astype(float)\n",
        "prototypes = np.array([proto_A, proto_B])\n",
        "proto_labels = ['A', 'B']\n",
        "\n",
        "learning_rate = 0.1\n",
        "epochs = 50\n",
        "decay_rate = 0.99\n",
        "\n",
        "print(\"============== Inisialisasi ==============\")\n",
        "print(f\"Prototype awal 'A':\\n {prototypes[0]}\")\n",
        "print(f\"Prototype awal 'B':\\n {prototypes[1]}\")\n",
        "print(f\"Learning Rate awal: {learning_rate}, Epochs: {epochs}\")\n",
        "print(\"\")\n",
        "\n",
        "def euclidean_distance(v1, v2):\n",
        "    return np.linalg.norm(v1 - v2)\n",
        "\n",
        "for epoch in range(epochs):\n",
        "    for i in range(len(X_Tr)):\n",
        "        x = X_Tr[i]\n",
        "        y_true = Class_Tr[i]\n",
        "        distances = [euclidean_distance(x, p) for p in prototypes]\n",
        "        winner_idx = np.argmin(distances)\n",
        "        winner_label = proto_labels[winner_idx]\n",
        "        winner_vec = prototypes[winner_idx]\n",
        "\n",
        "        if y_true == winner_label:\n",
        "            prototypes[winner_idx] += learning_rate * (x - winner_vec)\n",
        "        else:\n",
        "            prototypes[winner_idx] -= learning_rate * (x - winner_vec)\n",
        "\n",
        "    learning_rate *= decay_rate\n",
        "\n",
        "print(\"============== Fase Training ==============\")\n",
        "print(f\"Learning Rate akhir: {learning_rate:.6f}\")\n",
        "print(f\"Prototype 'A' (setelah train):\\n {np.round(prototypes[0], 4)}\")\n",
        "print(f\"Prototype 'B' (setelah train):\\n {np.round(prototypes[1], 4)}\")\n",
        "print(\"\")\n",
        "\n",
        "def predict_lvq(x_unknown, prototypes, proto_labels):\n",
        "    distances = [euclidean_distance(x_unknown, p) for p in prototypes]\n",
        "    winner_idx = np.argmin(distances)\n",
        "    return proto_labels[winner_idx]\n",
        "\n",
        "predictions = [predict_lvq(x, prototypes, proto_labels) for x in X_U]\n",
        "\n",
        "print(\"============== Hasil Prediksi ==============\")\n",
        "for i in range(len(X_U)):\n",
        "    print(f\"Pola ke-{i+1}: {X_U[i]} -> Prediksi: {predictions[i]} | Label Asli: {Class_U[i]}\")\n",
        "\n",
        "\n",
        "correct = sum(p == t for p, t in zip(predictions, Class_U))\n",
        "accuracy = correct / len(Class_U) * 100\n",
        "\n",
        "print(\"\\n============== Evaluasi ==============\")\n",
        "print(f\"Total Benar: {correct}/{len(Class_U)}\")\n",
        "print(f\"Akurasi: {accuracy:.2f}%\")\n",
        "print(\"\")"
      ]
    }
  ],
  "metadata": {
    "colab": {
      "provenance": []
    },
    "kernelspec": {
      "display_name": "Python 3",
      "name": "python3"
    },
    "language_info": {
      "codemirror_mode": {
        "name": "ipython",
        "version": 3
      },
      "file_extension": ".py",
      "mimetype": "text/x-python",
      "name": "python",
      "nbconvert_exporter": "python",
      "pygments_lexer": "ipython3",
      "version": "3.13.7"
    }
  },
  "nbformat": 4,
  "nbformat_minor": 0
}