{
 "cells": [
  {
   "cell_type": "markdown",
   "id": "5e5ecfc1",
   "metadata": {},
   "source": [
    "### Nama      : Teguh Dwi Julyanto\n",
    "### NIM       : F1D022098\n",
    "### No. Absen : 19"
   ]
  },
  {
   "cell_type": "markdown",
   "id": "a9288ce5",
   "metadata": {},
   "source": [
    "==============================================================================================================================="
   ]
  },
  {
   "cell_type": "markdown",
   "id": "d44e5752",
   "metadata": {},
   "source": [
    "$\\overset{\\text{Input}}{\\begin{bmatrix}\n",
    "0 & 0 & -1 \\\\\n",
    "0 & 1 & -1 \\\\\n",
    "1 & 0 & -1 \\\\\n",
    "1 & 1 & -1\n",
    "\\end{bmatrix}}$\n",
    "$\\overset{\\text{Target}}{\\begin{bmatrix}\n",
    "1 \\\\\n",
    "-1 \\\\\n",
    "-1 \\\\\n",
    "-1\n",
    "\\end{bmatrix}}$\n",
    "\n",
    "Rancanglah ANN untuk menyelesaikan persoalan diatas dengan ketentuan:\n",
    "1. Teknik pelatihan Heb-Rule \n",
    "2. Teknik Pelatihan Perceptron \n"
   ]
  },
  {
   "cell_type": "markdown",
   "id": "d9cb7627",
   "metadata": {},
   "source": [
    "==============================================================================================================================="
   ]
  },
  {
   "cell_type": "markdown",
   "id": "997de2fe",
   "metadata": {},
   "source": [
    "#### 1. Teknik Pelatihan Heb-Rule"
   ]
  },
  {
   "cell_type": "markdown",
   "id": "ad38d2c3",
   "metadata": {},
   "source": [
    "Persamaan Aktivasi\n",
    "$\\boxed{\\text{y = b + x1*w1 + x2*w2}}$\n",
    "\n",
    "Inisialisasi\n",
    "$\\boxed{\\text{w1 = w2 = b = 0}}$\n",
    "\n",
    "Aturan Update bias\n",
    "$\\boxed{\\text{b(new) = b(old) + Δb}}$\n",
    "\n",
    "Aturan Update Weight\n",
    "$\\boxed{\\text{wi(new) = wi(old) + Δw)}}$\n",
    "\n",
    "Keterangan Δb\n",
    "$\\boxed{\\text{Δb = y}}$\n",
    "\n",
    "Keterangan Δw\n",
    "$\\boxed{\\text{Δw = xi*y}}$"
   ]
  },
  {
   "cell_type": "markdown",
   "id": "d7cd1e1c",
   "metadata": {},
   "source": [
    "#### Dari persoalan yang diberikan dapat kita gambarkan bentuknya seperti di bawah ini"
   ]
  },
  {
   "cell_type": "markdown",
   "id": "badf6976",
   "metadata": {},
   "source": [
    "![Teks alternatif](image.png)"
   ]
  },
  {
   "cell_type": "markdown",
   "id": "31cc5eac",
   "metadata": {},
   "source": [
    "Langkah pertama adalah mencari nilai w1, w2 dan b. Bisa dilakukan dengan membuat tabel dan menghitung nilai \n",
    "yang dibutuhkan menggunakan rumus yang sudah di jabarkan di atas"
   ]
  },
  {
   "cell_type": "markdown",
   "id": "b81664df",
   "metadata": {},
   "source": [
    "| **Input** |     |     | |   **Weight Changes**   |     |  |  **New Weight**   |     |    |\n",
    "|-----------|-----|-----|--------------------|-----|-----|----------------|-----|-----|----|\n",
    "| **x1**    | **x2** | **b** | **y** | **Δw1** | **Δw2** | **Δb** | **w1(new)** | **w2(new)** | **b(new)** |    \n",
    "|      0     |   0    |    -1   |   1     |   0      |    0    |    1      |     0     |      0       |      1      |    \n",
    "|      0     |   1    |    -1   |  -1     |   0      |   -1    |   -1      |     0     |     -1       |      0      |    \n",
    "|      1     |   0    |    -1   |  -1     |   -1     |    0    |   -1      |    -1     |     -1       |     -1      |    \n",
    "|      1     |   1    |    -1   |  -1     |   -1     |   -1    |   -1      |    -2     |     -2       |     -2      |    \n",
    "\n",
    "dari tabel di atas kita mendapatkan nilai **w1, w2 da b yaitu -2, -2 dan -2** secara berurutan"
   ]
  },
  {
   "cell_type": "markdown",
   "id": "3758aec3",
   "metadata": {},
   "source": [
    "Langkah selanjutnya adalah testing menggunakan nilai w1, w2 dan b yang sudah didapatkan apakah sesuai dengan target"
   ]
  },
  {
   "cell_type": "markdown",
   "id": "521e6a7f",
   "metadata": {},
   "source": [
    "disini saya menggunakan threshold \n",
    "$$\n",
    "f(\\text{yIn}) =\n",
    "\\begin{cases}\n",
    "1, & \\text{jika } \\text{yIn} \\ge -2 \\\\[6pt]\n",
    "-1, & \\text{jika } \\text{yIn} < -2\n",
    "\\end{cases}\n",
    "$$\n"
   ]
  },
  {
   "cell_type": "markdown",
   "id": "00ecfdab",
   "metadata": {},
   "source": [
    "Untuk \\([0, 0]\\):\n",
    "\\begin{aligned}\n",
    "y_\\text{in} &= -2 + 0 \\times (-2) + 0 \\times (-2) \\\\\n",
    "            &= -2 + 0 + 0 \\\\\n",
    "            &= -2 \\\\\n",
    "y &= f(y_\\text{in}) = 1\n",
    "\\end{aligned}\n",
    "\n",
    "Untuk \\([0, 1]\\):\n",
    "\\begin{aligned}\n",
    "y_\\text{in} &= -2 + 0 \\times (-2) + 1 \\times (-2) \\\\\n",
    "            &= -2 + 0 + -2 \\\\\n",
    "            &= -4 \\\\\n",
    "y &= f(y_\\text{in}) = -1\n",
    "\\end{aligned}\n",
    "\n",
    "Untuk \\([1, 0]\\):\n",
    "\\begin{aligned}\n",
    "y_\\text{in} &= -2 + 1 \\times (-2) + 0 \\times (-2) \\\\\n",
    "            &= -2 + -2 + 0 \\\\\n",
    "            &= -4 \\\\\n",
    "y &= f(y_\\text{in}) = -1\n",
    "\\end{aligned}\n",
    "\n",
    "Untuk \\([1, 1]\\):\n",
    "\\begin{aligned}\n",
    "y_\\text{in} &= -2 + 1 \\times (-2) + 1 \\times (-2) \\\\\n",
    "            &= -2 + -2 + -2 \\\\\n",
    "            &= -6 \\\\\n",
    "y &= f(y_\\text{in}) = -1\n",
    "\\end{aligned}\n"
   ]
  },
  {
   "cell_type": "markdown",
   "id": "477e9eb3",
   "metadata": {},
   "source": [
    "dengan menggunakan threshold di atas, berhasil di dapatkan hasil yang sesuai dengan target yaitu: \n",
    "$\\overset{\\text{}}{\\begin{bmatrix}\n",
    "1 \\\\\n",
    "-1 \\\\\n",
    "-1 \\\\\n",
    "-1\n",
    "\\end{bmatrix}}$"
   ]
  },
  {
   "cell_type": "markdown",
   "id": "24cdd4c0",
   "metadata": {},
   "source": [
    "Di bawah ini adalah code untuk menghitung inputan dengan menggunakan Hebbian rule. Perhitungan dilakukan sebanyak 100 epoch"
   ]
  },
  {
   "cell_type": "code",
   "execution_count": 46,
   "id": "5ac63bca",
   "metadata": {},
   "outputs": [],
   "source": [
    "import numpy as np"
   ]
  },
  {
   "cell_type": "code",
   "execution_count": 47,
   "id": "cb7f210c",
   "metadata": {},
   "outputs": [],
   "source": [
    "inputs = np.array([[0, 0],\n",
    "                   [0, 1],\n",
    "                   [1, 0],\n",
    "                   [1, 1]])\n",
    "outputs = np.array([[1],\n",
    "                    [-1],\n",
    "                    [-1],\n",
    "                    [-1]])"
   ]
  },
  {
   "cell_type": "code",
   "execution_count": null,
   "id": "6c079244",
   "metadata": {},
   "outputs": [],
   "source": [
    "class Hebbian:\n",
    "    def __init__(self, input_size, output_size):\n",
    "        self.w = np.zeros((input_size, output_size))\n",
    "        self.b = np.zeros((output_size,))\n",
    "        self.threshold = -2\n",
    "\n",
    "    def model_train(self, inputs, outputs, epoch):\n",
    "        for e in range (epoch):\n",
    "            for i in range(len(inputs)):\n",
    "                inputV = inputs[i]\n",
    "                outputV = outputs[i]\n",
    "                self.w += np.outer(inputV, outputV)\n",
    "                self.b += outputV\n",
    "\n",
    "        self.threshold *= epoch\n",
    "\n",
    "    def test(self, inputV, bias):\n",
    "        result = np.dot(inputV, self.w) + bias\n",
    "        return np.where(result >= self.threshold, 1, -1)"
   ]
  },
  {
   "cell_type": "code",
   "execution_count": 49,
   "id": "5515b7bc",
   "metadata": {},
   "outputs": [
    {
     "name": "stdout",
     "output_type": "stream",
     "text": [
      "Weight\n",
      "[[-200.]\n",
      " [-200.]]\n",
      "Bias\n",
      "[-200.]\n",
      "Y-out\n",
      "[[ 1]\n",
      " [-1]\n",
      " [-1]\n",
      " [-1]]\n"
     ]
    }
   ],
   "source": [
    "h = Hebbian(input_size=2, output_size=1)\n",
    "h.model_train(inputs, outputs, 100)\n",
    "print(\"Weight\")\n",
    "print(h.w)\n",
    "\n",
    "print(\"Bias\")\n",
    "print(h.b)\n",
    "\n",
    "result = h.test(inputs, h.b)\n",
    "print(\"Y-out\")\n",
    "print(result)"
   ]
  }
 ],
 "metadata": {
  "kernelspec": {
   "display_name": "Python 3",
   "language": "python",
   "name": "python3"
  },
  "language_info": {
   "codemirror_mode": {
    "name": "ipython",
    "version": 3
   },
   "file_extension": ".py",
   "mimetype": "text/x-python",
   "name": "python",
   "nbconvert_exporter": "python",
   "pygments_lexer": "ipython3",
   "version": "3.13.2"
  }
 },
 "nbformat": 4,
 "nbformat_minor": 5
}
